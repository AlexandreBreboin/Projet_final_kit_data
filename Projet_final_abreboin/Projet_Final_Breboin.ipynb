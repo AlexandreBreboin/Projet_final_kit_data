{
 "cells": [
  {
   "cell_type": "markdown",
   "metadata": {},
   "source": [
    "# Projet Final de Kit Data Science\n",
    "\n",
    "Auteur : Alexandre Bréboin\n",
    "\n",
    "Nous allons nous interesser à l'analyse de données du vendée globe. Pour les analyses, la méthode est la suivante :\n",
    "Les données sont prélevées sur le site du vendée globe (https://www.vendeeglobe.org/fr/classement) une fois par jour, avec le dataset de 21h. Sur les dataset, les données sont disponibles pour les dernières 30 minutes, depuis le dernier classement (c'est à dire 4 heures) et pour les dernières 24 heures. Vu que nous récupérons un dataset par jour, nous garderons uniquement les données pour les dernières 24 heures.\n",
    " \n",
    "Tout d'abord, je me suis plongé dans le sujet en allant regarder l'état de la course et la progression des différents bateaux depuis le premier jour.\n",
    "J'ai remarqué que plus la course avançait, plus l'écart se creusait entre les bateaux disposant d'un foil et ceux n'en ayant pas.\n",
    "\n",
    "Une première analyse sera donc porté sur l'impact du foil sur la vitesse des bateaux. Le foil n'étant pas disponible dans les données récupérées sur le site du véndée globe, nous ferons une jointure avec un fichier que j'ai confectionné."
   ]
  },
  {
   "cell_type": "code",
   "execution_count": 2,
   "metadata": {},
   "outputs": [],
   "source": [
    "import pandas as pd\n",
    "import numpy as np\n",
    "from statistics import mean\n",
    "import matplotlib.pyplot as plt\n",
    "import os"
   ]
  },
  {
   "cell_type": "code",
   "execution_count": 4,
   "metadata": {
    "scrolled": true
   },
   "outputs": [
    {
     "name": "stdout",
     "output_type": "stream",
     "text": [
      "['vendeeglobe_20201127_210000.xlsx', 'vendeeglobe_20201109_210000.xlsx', 'vendeeglobe_20201115_210000.xlsx', 'vendeeglobe_20201122_210000.xlsx', 'vendeeglobe_20201110_210000.xlsx', 'vendeeglobe_20201119_210000.xlsx', 'vendeeglobe_20201113_210000.xlsx', 'vendeeglobe_20201121_210000.xlsx', 'vendeeglobe_20201116_210000.xlsx', 'vendeeglobe_20201124_210000.xlsx', 'vendeeglobe_20201118_210000.xlsx', 'vendeeglobe_20201111_210000.xlsx', '~$vendeeglobe_20201120_210000.xlsx', 'vendeeglobe_20201123_210000.xlsx', 'vendeeglobe_20201114_210000.xlsx', 'vendeeglobe_20201126_210000.xlsx', 'vendeeglobe_20201108_210000.xlsx', '~$vendeeglobe_20201108_210000.xlsx', 'vendeeglobe_20201125_210000.xlsx', 'vendeeglobe_20201117_210000.xlsx', 'vendeeglobe_20201120_210000.xlsx', 'vendeeglobe_20201112_210000.xlsx']\n",
      "['vendeeglobe_20201108_210000.xlsx', 'vendeeglobe_20201108_210000.xlsx', 'vendeeglobe_20201109_210000.xlsx', 'vendeeglobe_20201110_210000.xlsx', 'vendeeglobe_20201111_210000.xlsx', 'vendeeglobe_20201112_210000.xlsx', 'vendeeglobe_20201113_210000.xlsx', 'vendeeglobe_20201114_210000.xlsx', 'vendeeglobe_20201115_210000.xlsx', 'vendeeglobe_20201116_210000.xlsx', 'vendeeglobe_20201117_210000.xlsx', 'vendeeglobe_20201118_210000.xlsx', 'vendeeglobe_20201119_210000.xlsx', 'vendeeglobe_20201120_210000.xlsx', 'vendeeglobe_20201120_210000.xlsx', 'vendeeglobe_20201121_210000.xlsx', 'vendeeglobe_20201122_210000.xlsx', 'vendeeglobe_20201123_210000.xlsx', 'vendeeglobe_20201124_210000.xlsx', 'vendeeglobe_20201125_210000.xlsx', 'vendeeglobe_20201126_210000.xlsx', 'vendeeglobe_20201127_210000.xlsx']\n"
     ]
    }
   ],
   "source": [
    "# Permet de récupérer la liste des dataset présents dans le dossier les regroupants, et de la nettoyer\n",
    "liste_xlsx_unclean = os.listdir('Rankings/')\n",
    "liste_xlsx_unclean.remove('.DS_Store')\n",
    "print(liste_xlsx_unclean)\n",
    "liste_xlsx = []\n",
    "for xlsx in liste_xlsx_unclean:\n",
    "    if '~$' in xlsx:\n",
    "        xlsx = xlsx[2:]\n",
    "    liste_xlsx.append(xlsx)\n",
    "liste_xlsx = sorted(liste_xlsx)\n",
    "print(liste_xlsx)"
   ]
  },
  {
   "cell_type": "code",
   "execution_count": 8,
   "metadata": {},
   "outputs": [
    {
     "data": {
      "text/html": [
       "<div>\n",
       "<style scoped>\n",
       "    .dataframe tbody tr th:only-of-type {\n",
       "        vertical-align: middle;\n",
       "    }\n",
       "\n",
       "    .dataframe tbody tr th {\n",
       "        vertical-align: top;\n",
       "    }\n",
       "\n",
       "    .dataframe thead th {\n",
       "        text-align: right;\n",
       "    }\n",
       "</style>\n",
       "<table border=\"1\" class=\"dataframe\">\n",
       "  <thead>\n",
       "    <tr style=\"text-align: right;\">\n",
       "      <th></th>\n",
       "      <th>Rank</th>\n",
       "      <th>Nat Voile</th>\n",
       "      <th>Heure FR Hour FR</th>\n",
       "      <th>Latitude Latitude</th>\n",
       "      <th>Longitude Longitude</th>\n",
       "      <th>Cap Heading.2</th>\n",
       "      <th>Vitesse Speed.2</th>\n",
       "      <th>VMG VMG.2</th>\n",
       "      <th>Distance Distance.2</th>\n",
       "      <th>Distance to Finish</th>\n",
       "      <th>Distance to Leader</th>\n",
       "      <th>Foils</th>\n",
       "    </tr>\n",
       "  </thead>\n",
       "  <tbody>\n",
       "    <tr>\n",
       "      <th>Alex Thomson HUGO BOSS</th>\n",
       "      <td>1</td>\n",
       "      <td>GBR 99</td>\n",
       "      <td>21:30 FR</td>\n",
       "      <td>17°18.82'S</td>\n",
       "      <td>31°27.89'W</td>\n",
       "      <td>170°</td>\n",
       "      <td>20.6 kts</td>\n",
       "      <td>20.1 kts</td>\n",
       "      <td>493.4 nm</td>\n",
       "      <td>20408.0 nm</td>\n",
       "      <td>0.0 nm</td>\n",
       "      <td>1</td>\n",
       "    </tr>\n",
       "    <tr>\n",
       "      <th>Thomas Ruyant LinkedOut</th>\n",
       "      <td>2</td>\n",
       "      <td>FRA 59</td>\n",
       "      <td>21:00 FR -30min</td>\n",
       "      <td>16°25.53'S</td>\n",
       "      <td>29°44.13'W</td>\n",
       "      <td>169°</td>\n",
       "      <td>20.7 kts</td>\n",
       "      <td>20.5 kts</td>\n",
       "      <td>496.0 nm</td>\n",
       "      <td>20414.9 nm</td>\n",
       "      <td>6.9 nm</td>\n",
       "      <td>1</td>\n",
       "    </tr>\n",
       "    <tr>\n",
       "      <th>Charlie Dalin APIVIA</th>\n",
       "      <td>3</td>\n",
       "      <td>FRA 79</td>\n",
       "      <td>21:30 FR</td>\n",
       "      <td>15°54.10'S</td>\n",
       "      <td>30°42.82'W</td>\n",
       "      <td>177°</td>\n",
       "      <td>20.2 kts</td>\n",
       "      <td>19.7 kts</td>\n",
       "      <td>486.0 nm</td>\n",
       "      <td>20465.6 nm</td>\n",
       "      <td>57.6 nm</td>\n",
       "      <td>1</td>\n",
       "    </tr>\n",
       "    <tr>\n",
       "      <th>Jean Le Cam Yes we Cam !</th>\n",
       "      <td>4</td>\n",
       "      <td>FRA 01</td>\n",
       "      <td>21:30 FR</td>\n",
       "      <td>12°20.33'S</td>\n",
       "      <td>29°59.00'W</td>\n",
       "      <td>176°</td>\n",
       "      <td>16.3 kts</td>\n",
       "      <td>16.0 kts</td>\n",
       "      <td>390.4 nm</td>\n",
       "      <td>20650.7 nm</td>\n",
       "      <td>242.7 nm</td>\n",
       "      <td>0</td>\n",
       "    </tr>\n",
       "    <tr>\n",
       "      <th>Louis Burton Bureau Vallée 2</th>\n",
       "      <td>5</td>\n",
       "      <td>FRA 18</td>\n",
       "      <td>21:30 FR</td>\n",
       "      <td>12°33.15'S</td>\n",
       "      <td>31°20.78'W</td>\n",
       "      <td>180°</td>\n",
       "      <td>18.7 kts</td>\n",
       "      <td>18.0 kts</td>\n",
       "      <td>449.7 nm</td>\n",
       "      <td>20665.5 nm</td>\n",
       "      <td>257.6 nm</td>\n",
       "      <td>1</td>\n",
       "    </tr>\n",
       "  </tbody>\n",
       "</table>\n",
       "</div>"
      ],
      "text/plain": [
       "                             Rank Nat Voile Heure FR Hour FR  \\\n",
       "Alex Thomson HUGO BOSS          1    GBR 99        21:30 FR    \n",
       "Thomas Ruyant LinkedOut         2    FRA 59  21:00 FR -30min   \n",
       "Charlie Dalin APIVIA            3    FRA 79        21:30 FR    \n",
       "Jean Le Cam Yes we Cam !        4    FRA 01        21:30 FR    \n",
       "Louis Burton Bureau Vallée 2    5    FRA 18        21:30 FR    \n",
       "\n",
       "                             Latitude Latitude Longitude Longitude  \\\n",
       "Alex Thomson HUGO BOSS              17°18.82'S          31°27.89'W   \n",
       "Thomas Ruyant LinkedOut             16°25.53'S          29°44.13'W   \n",
       "Charlie Dalin APIVIA                15°54.10'S          30°42.82'W   \n",
       "Jean Le Cam Yes we Cam !            12°20.33'S          29°59.00'W   \n",
       "Louis Burton Bureau Vallée 2        12°33.15'S          31°20.78'W   \n",
       "\n",
       "                             Cap Heading.2 Vitesse Speed.2 VMG VMG.2  \\\n",
       "Alex Thomson HUGO BOSS                170°        20.6 kts  20.1 kts   \n",
       "Thomas Ruyant LinkedOut               169°        20.7 kts  20.5 kts   \n",
       "Charlie Dalin APIVIA                  177°        20.2 kts  19.7 kts   \n",
       "Jean Le Cam Yes we Cam !              176°        16.3 kts  16.0 kts   \n",
       "Louis Burton Bureau Vallée 2          180°        18.7 kts  18.0 kts   \n",
       "\n",
       "                             Distance Distance.2 Distance to Finish  \\\n",
       "Alex Thomson HUGO BOSS                  493.4 nm         20408.0 nm   \n",
       "Thomas Ruyant LinkedOut                 496.0 nm         20414.9 nm   \n",
       "Charlie Dalin APIVIA                    486.0 nm         20465.6 nm   \n",
       "Jean Le Cam Yes we Cam !                390.4 nm         20650.7 nm   \n",
       "Louis Burton Bureau Vallée 2            449.7 nm         20665.5 nm   \n",
       "\n",
       "                             Distance to Leader  Foils  \n",
       "Alex Thomson HUGO BOSS                   0.0 nm      1  \n",
       "Thomas Ruyant LinkedOut                  6.9 nm      1  \n",
       "Charlie Dalin APIVIA                    57.6 nm      1  \n",
       "Jean Le Cam Yes we Cam !               242.7 nm      0  \n",
       "Louis Burton Bureau Vallée 2           257.6 nm      1  "
      ]
     },
     "execution_count": 8,
     "metadata": {},
     "output_type": "execute_result"
    }
   ],
   "source": [
    "# Nettoyage des datasets et jointure avec le fichier contenant les informations sur les foils\n",
    "ranking_dispo = {}\n",
    "ranking = []\n",
    "count = 0\n",
    "foils = pd.read_excel('foils.xlsx', index_col= 0)\n",
    "foils = foils.replace(r'\\n',' ', regex=True)\n",
    "foils.index = foils.index.str.replace(r'\\n',' ', regex=True)\n",
    "for xlsx in liste_xlsx:\n",
    "    ranking_dispo.update({f'ranking_{xlsx[-14:-12]}_{xlsx[-16:-14]}_{xlsx[-11:-9]}h': count})\n",
    "    ranking.append(0)\n",
    "    ranking[count] = pd.read_excel('Rankings/'+xlsx, header = 4,index_col=3)\n",
    "    ranking[count] = ranking[count].replace(r'\\n',' ', regex=True)\n",
    "    ranking[count] = ranking[count].rename(columns={\"Unnamed: 1\": \"Rank\", \"Unnamed: 2\": \"Nat\\nVoile\",\"Unnamed: 19\" : \"Distance to Finish\",\"Unnamed: 20\" : \"Distance to Leader\"})\n",
    "    ranking[count] = ranking[count].drop('Unnamed: 0',axis=1)\n",
    "    ranking[count].index = ranking[count].index.str.replace(r'\\n',' ', regex=True)\n",
    "    ranking[count].index = ranking[count].index.str.replace('Hugo Boss', 'HUGO BOSS', regex=True)\n",
    "    ranking[count].columns = ranking[count].columns.str.replace(r'\\n',' ', regex=True)\n",
    "    ranking[count].drop(['Cap Heading','Vitesse Speed','VMG VMG','Distance Distance','Cap Heading.1','Vitesse Speed.1','VMG VMG.1','Distance Distance.1'], axis=1, inplace=True)\n",
    "    ranking[count] = ranking[count][0:33]\n",
    "    ranking[count] = pd.concat([ranking[count], foils], axis=1)\n",
    "    count = count + 1\n",
    "ranking[14].head()"
   ]
  },
  {
   "cell_type": "code",
   "execution_count": 9,
   "metadata": {
    "scrolled": true
   },
   "outputs": [
    {
     "data": {
      "text/plain": [
       "{'ranking_08_11_21h': 1,\n",
       " 'ranking_09_11_21h': 2,\n",
       " 'ranking_10_11_21h': 3,\n",
       " 'ranking_11_11_21h': 4,\n",
       " 'ranking_12_11_21h': 5,\n",
       " 'ranking_13_11_21h': 6,\n",
       " 'ranking_14_11_21h': 7,\n",
       " 'ranking_15_11_21h': 8,\n",
       " 'ranking_16_11_21h': 9,\n",
       " 'ranking_17_11_21h': 10,\n",
       " 'ranking_18_11_21h': 11,\n",
       " 'ranking_19_11_21h': 12,\n",
       " 'ranking_20_11_21h': 14,\n",
       " 'ranking_21_11_21h': 15,\n",
       " 'ranking_22_11_21h': 16,\n",
       " 'ranking_23_11_21h': 17,\n",
       " 'ranking_24_11_21h': 18,\n",
       " 'ranking_25_11_21h': 19,\n",
       " 'ranking_26_11_21h': 20,\n",
       " 'ranking_27_11_21h': 21}"
      ]
     },
     "execution_count": 9,
     "metadata": {},
     "output_type": "execute_result"
    }
   ],
   "source": [
    "# Permet de voir l'index de la liste de dataframes \"ranking\". \n",
    "# Par exemple ranking[0] correspond au classement du 8/11 à 21h.\n",
    "ranking_dispo"
   ]
  },
  {
   "cell_type": "markdown",
   "metadata": {},
   "source": [
    "Les datasets sont chargés, nous allons donc commencer l'analyse de l'impact des foils sur la vitesse des bateaux.\n",
    "Afin de biaiser au minimum les données, nous allons comparer la moyenne des 5 premiers bateaux du dernier classement contenant ou non un foil. Ceci à pour but d'essayer de minimiser l'impact que pourrait avoir les retardataires sur la moyenne, certains ayant eu une casse et ayant prit pas mal de retard, les conditions météos sont de moins en moins similaire au fur et à mesure que la course s'étale."
   ]
  },
  {
   "cell_type": "code",
   "execution_count": 10,
   "metadata": {
    "scrolled": true
   },
   "outputs": [
    {
     "data": {
      "text/html": [
       "<div>\n",
       "<style scoped>\n",
       "    .dataframe tbody tr th:only-of-type {\n",
       "        vertical-align: middle;\n",
       "    }\n",
       "\n",
       "    .dataframe tbody tr th {\n",
       "        vertical-align: top;\n",
       "    }\n",
       "\n",
       "    .dataframe thead th {\n",
       "        text-align: right;\n",
       "    }\n",
       "</style>\n",
       "<table border=\"1\" class=\"dataframe\">\n",
       "  <thead>\n",
       "    <tr style=\"text-align: right;\">\n",
       "      <th></th>\n",
       "      <th>Speed without Foils</th>\n",
       "      <th>Speed with Foils</th>\n",
       "    </tr>\n",
       "  </thead>\n",
       "  <tbody>\n",
       "    <tr>\n",
       "      <th>1</th>\n",
       "      <td>5.88</td>\n",
       "      <td>5.66</td>\n",
       "    </tr>\n",
       "    <tr>\n",
       "      <th>2</th>\n",
       "      <td>5.88</td>\n",
       "      <td>5.66</td>\n",
       "    </tr>\n",
       "    <tr>\n",
       "      <th>3</th>\n",
       "      <td>8.82</td>\n",
       "      <td>9.24</td>\n",
       "    </tr>\n",
       "    <tr>\n",
       "      <th>4</th>\n",
       "      <td>8.62</td>\n",
       "      <td>8.62</td>\n",
       "    </tr>\n",
       "    <tr>\n",
       "      <th>5</th>\n",
       "      <td>11.30</td>\n",
       "      <td>11.32</td>\n",
       "    </tr>\n",
       "    <tr>\n",
       "      <th>6</th>\n",
       "      <td>12.88</td>\n",
       "      <td>13.00</td>\n",
       "    </tr>\n",
       "    <tr>\n",
       "      <th>7</th>\n",
       "      <td>14.00</td>\n",
       "      <td>15.04</td>\n",
       "    </tr>\n",
       "    <tr>\n",
       "      <th>8</th>\n",
       "      <td>13.08</td>\n",
       "      <td>13.50</td>\n",
       "    </tr>\n",
       "    <tr>\n",
       "      <th>9</th>\n",
       "      <td>11.30</td>\n",
       "      <td>15.32</td>\n",
       "    </tr>\n",
       "    <tr>\n",
       "      <th>10</th>\n",
       "      <td>16.72</td>\n",
       "      <td>19.60</td>\n",
       "    </tr>\n",
       "    <tr>\n",
       "      <th>11</th>\n",
       "      <td>15.62</td>\n",
       "      <td>17.66</td>\n",
       "    </tr>\n",
       "    <tr>\n",
       "      <th>12</th>\n",
       "      <td>14.56</td>\n",
       "      <td>15.12</td>\n",
       "    </tr>\n",
       "    <tr>\n",
       "      <th>13</th>\n",
       "      <td>13.96</td>\n",
       "      <td>19.28</td>\n",
       "    </tr>\n",
       "    <tr>\n",
       "      <th>14</th>\n",
       "      <td>14.00</td>\n",
       "      <td>19.86</td>\n",
       "    </tr>\n",
       "    <tr>\n",
       "      <th>15</th>\n",
       "      <td>14.00</td>\n",
       "      <td>19.86</td>\n",
       "    </tr>\n",
       "    <tr>\n",
       "      <th>16</th>\n",
       "      <td>14.48</td>\n",
       "      <td>19.04</td>\n",
       "    </tr>\n",
       "    <tr>\n",
       "      <th>17</th>\n",
       "      <td>13.06</td>\n",
       "      <td>11.04</td>\n",
       "    </tr>\n",
       "    <tr>\n",
       "      <th>18</th>\n",
       "      <td>11.34</td>\n",
       "      <td>9.42</td>\n",
       "    </tr>\n",
       "    <tr>\n",
       "      <th>19</th>\n",
       "      <td>9.14</td>\n",
       "      <td>9.00</td>\n",
       "    </tr>\n",
       "    <tr>\n",
       "      <th>20</th>\n",
       "      <td>9.28</td>\n",
       "      <td>7.18</td>\n",
       "    </tr>\n",
       "    <tr>\n",
       "      <th>21</th>\n",
       "      <td>11.08</td>\n",
       "      <td>7.90</td>\n",
       "    </tr>\n",
       "    <tr>\n",
       "      <th>22</th>\n",
       "      <td>14.76</td>\n",
       "      <td>13.30</td>\n",
       "    </tr>\n",
       "  </tbody>\n",
       "</table>\n",
       "</div>"
      ],
      "text/plain": [
       "    Speed without Foils  Speed with Foils\n",
       "1                  5.88              5.66\n",
       "2                  5.88              5.66\n",
       "3                  8.82              9.24\n",
       "4                  8.62              8.62\n",
       "5                 11.30             11.32\n",
       "6                 12.88             13.00\n",
       "7                 14.00             15.04\n",
       "8                 13.08             13.50\n",
       "9                 11.30             15.32\n",
       "10                16.72             19.60\n",
       "11                15.62             17.66\n",
       "12                14.56             15.12\n",
       "13                13.96             19.28\n",
       "14                14.00             19.86\n",
       "15                14.00             19.86\n",
       "16                14.48             19.04\n",
       "17                13.06             11.04\n",
       "18                11.34              9.42\n",
       "19                 9.14              9.00\n",
       "20                 9.28              7.18\n",
       "21                11.08              7.90\n",
       "22                14.76             13.30"
      ]
     },
     "execution_count": 10,
     "metadata": {},
     "output_type": "execute_result"
    }
   ],
   "source": [
    "# Permet de récupérer la moyenne des vitesses des 5 premiers du classement  avec foils et des 5 premiers\n",
    "df_speed = pd.DataFrame(columns=('Speed without Foils','Speed with Foils'))\n",
    "count_day = 1\n",
    "for ranks in ranking:\n",
    "    df1 = ranks.rename(columns={\"Vitesse Speed.2\": f\"{count_day}\"})[['Rank','Foils',f\"{count_day}\"]]\n",
    "    speed_with_foil = df1.loc[df1['Foils']==1].head(5)\n",
    "    speed_with_foil = speed_with_foil[f\"{count_day}\"].replace(r' kts','', regex=True).values\n",
    "    speed_with_foil = mean(list(map(float, speed_with_foil)))\n",
    "    speed_without_foil = df1.loc[df1['Foils']==0].head(5)\n",
    "    speed_without_foil = speed_without_foil[f\"{count_day}\"].replace(r' kts','', regex=True).values\n",
    "    speed_without_foil = mean(list(map(float, speed_without_foil)))\n",
    "    df_speed.loc[count_day] = [speed_without_foil,speed_with_foil]\n",
    "    count_day = count_day + 1\n",
    "    \n",
    "df_speed"
   ]
  },
  {
   "cell_type": "code",
   "execution_count": 11,
   "metadata": {},
   "outputs": [
    {
     "data": {
      "text/plain": [
       "Text(40, -50, 'V = ~12-13kts')"
      ]
     },
     "execution_count": 11,
     "metadata": {},
     "output_type": "execute_result"
    },
    {
     "data": {
      "image/png": "[encoded data removed]",
      "text/plain": [
       "<Figure size 432x288 with 1 Axes>"
      ]
     },
     "metadata": {
      "needs_background": "light"
     },
     "output_type": "display_data"
    }
   ],
   "source": [
    "# Nous prenons ici les 15 premiers jours\n",
    "plt = df_speed.loc[1:10].plot(title='Vitesse moyenne des 5 premiers du classement en fonction des jours avec ou sans foils')\n",
    "plt.set_xlabel(\"Jours depuis le début de la course\")\n",
    "plt.set_ylabel(\"Vitesse en Noeuds\")\n",
    "plt.annotate('V = ~12-13kts', xy=(6,12.5), xycoords='data',\n",
    "            xytext=(40,-50), textcoords='offset points',\n",
    "            arrowprops=dict(arrowstyle='fancy',fc='0.6',\n",
    "                            connectionstyle=\"angle3,angleA=0,angleB=-90\"))"
   ]
  },
  {
   "cell_type": "markdown",
   "metadata": {},
   "source": [
    "Nous voyons ici qu'un bateau posséndant un foil va gagner en vitesse par rapport à un bateau sans foil, à partir de 12-13 noeuds marins. C'est en effet à cette vitesse que le bateau \"décolle\" et permet de réduire les frottements, gagnant ainsi de la vitesse relativement aux bateaux ne possédant pas de foil. La courbe est à conditions similaires jusqu'au 7-8eme jour. Après cela, les bateaux avec foil, allant plus vite, prennent de l'avance et n'ont plus les mêmes conditions météos que les bateaux sans foil, ce qui biaise la courbe. Nous arrêtons donc la courbe au 10ème jour, car plus le temps avance moins elle est fiable.\n",
    "\n",
    "Le foil est donc un net avantage sur le point de vue théorique, mais en pratique c'est aussi une prise de risque, car tout le poids du bateau est concentré sur le foil et sur la dérive. Comme nous avons pu le voir avec Alex Thomson, son bateau Hugo Boss présente des fissures dans la structure de la coque, probablement liées aux contraintes extrèmes imposées par le foil. Ce dernier a du naviguer à vitesse réduite perdant ainsi la tête de la course dans la nuit du vendredi au samedi 21/11.\n",
    "\n",
    "La course n'est donc pas encore jouée !\n"
   ]
  },
  {
   "cell_type": "markdown",
   "metadata": {},
   "source": [
    "Nous allons maintenant suivre les positions de deux skipers sur une carte. Nous allons prendre le premier skipper du classement possédant un foil, et le premier skipper du classement n'en possédant pas. Le Dimanche 22 novembre, lorsque j'ai fait ces recherches le 1er skipper possédant un foil était Thomas RUYANT, et celui n'en possédant pas était Jean LE CAM. Ces donc ces deux skippers que nous suivront au fur et à mesure des jours depuis le départ jusqu'au rendu du projet."
   ]
  },
  {
   "cell_type": "code",
   "execution_count": 12,
   "metadata": {},
   "outputs": [
    {
     "data": {
      "text/plain": [
       "-31.474722222222223"
      ]
     },
     "execution_count": 12,
     "metadata": {},
     "output_type": "execute_result"
    }
   ],
   "source": [
    "# La fonction réalisé lors du premier devoir maison ne couvrant pas les cas où les coordonées possèdent des points\n",
    "# cardinaux, j'ai extrait un code de la page suivant :\n",
    "# https://stackoverflow.com/questions/33997361/how-to-convert-degree-minute-second-to-degree-decimal\n",
    "\n",
    "import re\n",
    "def dms2dd(degrees, minutes, seconds, direction):\n",
    "    dd = float(degrees) + float(minutes)/60 + float(seconds)/(60*60);\n",
    "    if direction == 'W' or direction == 'S':\n",
    "        dd *= -1\n",
    "    return dd;\n",
    "def parse_dms(dms):\n",
    "    parts = re.split('[^\\d\\w]+', dms)\n",
    "    res = dms2dd(parts[0], parts[1], parts[2], parts[3])\n",
    "\n",
    "    return (res)\n",
    "\n",
    "dd = parse_dms(\"31°27.89'S\")\n",
    "dd"
   ]
  },
  {
   "cell_type": "code",
   "execution_count": 13,
   "metadata": {},
   "outputs": [],
   "source": [
    "# Récupération des coordonées GPS de Thomas Ruyant et Jean Le Cam\n",
    "df_coords_tr = pd.DataFrame(columns=('Latitude','Longitude'))\n",
    "df_coords_jlc = pd.DataFrame(columns=('Latitude','Longitude'))\n",
    "count_day = 1\n",
    "for ranks in ranking:\n",
    "    lat_tr = parse_dms(ranks.loc['Thomas Ruyant LinkedOut']['Latitude Latitude'])\n",
    "    long_tr = parse_dms(ranks.loc['Thomas Ruyant LinkedOut']['Longitude Longitude'])\n",
    "    lat_jlc = parse_dms(ranks.loc['Jean Le Cam Yes we Cam !']['Latitude Latitude'])\n",
    "    long_jlc = parse_dms(ranks.loc['Jean Le Cam Yes we Cam !']['Longitude Longitude'])\n",
    "    df_coords_tr.loc[count_day] = [lat_tr,long_tr]\n",
    "    df_coords_jlc.loc[count_day] = [lat_jlc,long_jlc]\n",
    "    count_day = count_day + 1"
   ]
  },
  {
   "cell_type": "code",
   "execution_count": 14,
   "metadata": {
    "scrolled": true
   },
   "outputs": [
    {
     "data": {
      "text/html": [
       "<div style=\"width:100%;\"><div style=\"position:relative;width:100%;height:0;padding-bottom:60%;\"><span style=\"color:#565656\">Make this Notebook Trusted to load map: File -> Trust Notebook</span><iframe src=\"about:blank\" style=\"position:absolute;width:100%;height:100%;left:0;top:0;border:none !important;\" data-html=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 onload=\"this.contentDocument.open();this.contentDocument.write(atob(this.getAttribute('data-html')));this.contentDocument.close();\" allowfullscreen webkitallowfullscreen mozallowfullscreen></iframe></div></div>"
      ],
      "text/plain": [
       "<folium.folium.Map at 0x7fa5c6509c40>"
      ]
     },
     "execution_count": 14,
     "metadata": {},
     "output_type": "execute_result"
    }
   ],
   "source": [
    "# Création de la carte et importation des points GPS des 2 skippers\n",
    "import folium\n",
    "m = folium.Map(location=[20, 0],\n",
    "                   zoom_start=2,\n",
    "                   tiles='Stamen Terrain')\n",
    "\n",
    "\n",
    "group0 = folium.FeatureGroup(name='<span style=\\\\\"color: red;\\\\\">Red Ships Thomas Ruyant</span>')\n",
    "group1 = folium.FeatureGroup(name='<span style=\\\\\"color: blue;\\\\\">Blue Ships Jean Le Cam</span>')\n",
    "for i in range(1,len(df_coords_tr)):\n",
    "    lat_tr = df_coords_tr.loc[i]['Latitude']\n",
    "    long_tr = df_coords_tr.loc[i]['Longitude']\n",
    "    lat_jlc = df_coords_jlc.loc[i]['Latitude']\n",
    "    long_jlc = df_coords_jlc.loc[i]['Longitude']\n",
    "    folium.Marker(location=[lat_tr, long_tr], popup=f'<i>Thomas Ruyant Jour {i}</i>',\n",
    "                  icon=folium.Icon(color='red',icon=\"ship\", prefix='fa')).add_to(group0)\n",
    "    folium.Marker(location=[lat_jlc, long_jlc], popup=f'<i>Jean Le Cam Jour {i}</i>',\n",
    "                  icon=folium.Icon(color='blue',icon=\"ship\", prefix='fa')).add_to(group1)\n",
    "group0.add_to(m)\n",
    "group1.add_to(m)\n",
    "folium.map.LayerControl('topright', collapsed=False).add_to(m)\n",
    "\n",
    "m"
   ]
  },
  {
   "cell_type": "markdown",
   "metadata": {},
   "source": [
    "La carte permet de suivre la position des 2 skippers, Jean le Cam en Bleu et Thomas Ruyant en Rouge.\n",
    "Nous voyons que Thomas Ruyant à dépassé Jean Le Cam environ au jour 10, après le passage des vents calmes équatoriaux lorsque les bateaux sont rentrés dans les vents forts de l'anticyclone de Saint Hélène, présent dans la partie hémisphère sud de l'océan Atlantique. Nous voyons que l'écart se creuse car la vitesse des vents est plus élevée dans cette zone, maximisant l'avantage du foil. Sur les derniers jours avant le rendu du projet, nous voyons que Thomas Ruyant a pris plus d'un jour d'avance (quasiment 2) sur Jean Le Cam."
   ]
  }
 ],
 "metadata": {
  "kernelspec": {
   "display_name": "Python 3",
   "language": "python",
   "name": "python3"
  },
  "language_info": {
   "codemirror_mode": {
    "name": "ipython",
    "version": 3
   },
   "file_extension": ".py",
   "mimetype": "text/x-python",
   "name": "python",
   "nbconvert_exporter": "python",
   "pygments_lexer": "ipython3",
   "version": "3.8.3"
  }
 },
 "nbformat": 4,
 "nbformat_minor": 4
}
