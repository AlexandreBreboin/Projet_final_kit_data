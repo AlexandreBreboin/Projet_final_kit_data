{
 "cells": [
  {
   "cell_type": "markdown",
   "metadata": {},
   "source": [
    "# Projet Final de Kit Data Science\n",
    "\n",
    "Auteur : Alexandre Bréboin\n",
    "\n",
    "Nous allons nous interesser à l'analyse de données du vendée globe. Pour les analyses, la méthode est la suivante :\n",
    "Les données sont prélevées sur le site du vendée globe (https://www.vendeeglobe.org/fr/classement) une fois par jour, avec le dataset de 21h. Sur les dataset, les données sont disponibles pour les dernières 30 minutes, depuis le dernier classement (c'est à dire 4 heures) et pour les dernières 24 heures. Vu que nous récupérons un dataset par jour, nous garderons uniquement les données pour les dernières 24 heures.\n",
    " \n",
    "Tout d'abord, je me suis plongé dans le sujet en allant regarder l'état de la course et la progression des différents bateaux depuis le premier jour.\n",
    "J'ai remarqué que plus la course avançait, plus l'écart se creusait entre les bateaux disposant d'un foil et ceux n'en ayant pas.\n",
    "\n",
    "Une première analyse sera donc porté sur l'impact du foil sur la vitesse des bateaux. Le foil n'étant pas disponible dans les données récupérées sur le site du véndée globe, nous ferons une jointure avec un fichier que j'ai confectionné."
   ]
  },
  {
   "cell_type": "code",
   "execution_count": 6,
   "metadata": {},
   "outputs": [],
   "source": [
    "import pandas as pd\n",
    "import numpy as np\n",
    "from statistics import mean\n",
    "import matplotlib.pyplot as plt\n",
    "import os"
   ]
  },
  {
   "cell_type": "code",
   "execution_count": 7,
   "metadata": {
    "scrolled": true
   },
   "outputs": [
    {
     "name": "stdout",
     "output_type": "stream",
     "text": [
      "['vendeeglobe_20201127_210000.xlsx', 'vendeeglobe_20201109_210000.xlsx', 'vendeeglobe_20201115_210000.xlsx', 'vendeeglobe_20201122_210000.xlsx', 'vendeeglobe_20201110_210000.xlsx', 'vendeeglobe_20201119_210000.xlsx', 'vendeeglobe_20201128_210000.xlsx', 'vendeeglobe_20201113_210000.xlsx', 'vendeeglobe_20201121_210000.xlsx', 'vendeeglobe_20201116_210000.xlsx', 'vendeeglobe_20201124_210000.xlsx', 'vendeeglobe_20201118_210000.xlsx', 'vendeeglobe_20201111_210000.xlsx', '~$vendeeglobe_20201120_210000.xlsx', 'vendeeglobe_20201123_210000.xlsx', 'vendeeglobe_20201114_210000.xlsx', 'vendeeglobe_20201126_210000.xlsx', 'vendeeglobe_20201108_210000.xlsx', '~$vendeeglobe_20201108_210000.xlsx', 'vendeeglobe_20201125_210000.xlsx', 'vendeeglobe_20201117_210000.xlsx', 'vendeeglobe_20201120_210000.xlsx', 'vendeeglobe_20201112_210000.xlsx']\n",
      "['vendeeglobe_20201108_210000.xlsx', 'vendeeglobe_20201108_210000.xlsx', 'vendeeglobe_20201109_210000.xlsx', 'vendeeglobe_20201110_210000.xlsx', 'vendeeglobe_20201111_210000.xlsx', 'vendeeglobe_20201112_210000.xlsx', 'vendeeglobe_20201113_210000.xlsx', 'vendeeglobe_20201114_210000.xlsx', 'vendeeglobe_20201115_210000.xlsx', 'vendeeglobe_20201116_210000.xlsx', 'vendeeglobe_20201117_210000.xlsx', 'vendeeglobe_20201118_210000.xlsx', 'vendeeglobe_20201119_210000.xlsx', 'vendeeglobe_20201120_210000.xlsx', 'vendeeglobe_20201120_210000.xlsx', 'vendeeglobe_20201121_210000.xlsx', 'vendeeglobe_20201122_210000.xlsx', 'vendeeglobe_20201123_210000.xlsx', 'vendeeglobe_20201124_210000.xlsx', 'vendeeglobe_20201125_210000.xlsx', 'vendeeglobe_20201126_210000.xlsx', 'vendeeglobe_20201127_210000.xlsx', 'vendeeglobe_20201128_210000.xlsx']\n"
     ]
    }
   ],
   "source": [
    "# Permet de récupérer la liste des dataset présents dans le dossier les regroupants, et de la nettoyer\n",
    "liste_xlsx_unclean = os.listdir('Rankings/')\n",
    "if 'DS_Store' in liste_xlsx_unclean:\n",
    "    liste_xlsx_unclean.remove('.DS_Store')\n",
    "print(liste_xlsx_unclean)\n",
    "liste_xlsx = []\n",
    "for xlsx in liste_xlsx_unclean:\n",
    "    if '~$' in xlsx:\n",
    "        xlsx = xlsx[2:]\n",
    "    liste_xlsx.append(xlsx)\n",
    "liste_xlsx = sorted(liste_xlsx)\n",
    "print(liste_xlsx)"
   ]
  },
  {
   "cell_type": "code",
   "execution_count": 8,
   "metadata": {},
   "outputs": [
    {
     "data": {
      "text/html": [
       "<div>\n",
       "<style scoped>\n",
       "    .dataframe tbody tr th:only-of-type {\n",
       "        vertical-align: middle;\n",
       "    }\n",
       "\n",
       "    .dataframe tbody tr th {\n",
       "        vertical-align: top;\n",
       "    }\n",
       "\n",
       "    .dataframe thead th {\n",
       "        text-align: right;\n",
       "    }\n",
       "</style>\n",
       "<table border=\"1\" class=\"dataframe\">\n",
       "  <thead>\n",
       "    <tr style=\"text-align: right;\">\n",
       "      <th></th>\n",
       "      <th>Rank</th>\n",
       "      <th>Nat Voile</th>\n",
       "      <th>Heure FR Hour FR</th>\n",
       "      <th>Latitude Latitude</th>\n",
       "      <th>Longitude Longitude</th>\n",
       "      <th>Cap Heading.2</th>\n",
       "      <th>Vitesse Speed.2</th>\n",
       "      <th>VMG VMG.2</th>\n",
       "      <th>Distance Distance.2</th>\n",
       "      <th>Distance to Finish</th>\n",
       "      <th>Distance to Leader</th>\n",
       "      <th>Foils</th>\n",
       "    </tr>\n",
       "  </thead>\n",
       "  <tbody>\n",
       "    <tr>\n",
       "      <th>Alex Thomson HUGO BOSS</th>\n",
       "      <td>1</td>\n",
       "      <td>GBR 99</td>\n",
       "      <td>21:30 FR</td>\n",
       "      <td>17°18.82'S</td>\n",
       "      <td>31°27.89'W</td>\n",
       "      <td>170°</td>\n",
       "      <td>20.6 kts</td>\n",
       "      <td>20.1 kts</td>\n",
       "      <td>493.4 nm</td>\n",
       "      <td>20408.0 nm</td>\n",
       "      <td>0.0 nm</td>\n",
       "      <td>1</td>\n",
       "    </tr>\n",
       "    <tr>\n",
       "      <th>Thomas Ruyant LinkedOut</th>\n",
       "      <td>2</td>\n",
       "      <td>FRA 59</td>\n",
       "      <td>21:00 FR -30min</td>\n",
       "      <td>16°25.53'S</td>\n",
       "      <td>29°44.13'W</td>\n",
       "      <td>169°</td>\n",
       "      <td>20.7 kts</td>\n",
       "      <td>20.5 kts</td>\n",
       "      <td>496.0 nm</td>\n",
       "      <td>20414.9 nm</td>\n",
       "      <td>6.9 nm</td>\n",
       "      <td>1</td>\n",
       "    </tr>\n",
       "    <tr>\n",
       "      <th>Charlie Dalin APIVIA</th>\n",
       "      <td>3</td>\n",
       "      <td>FRA 79</td>\n",
       "      <td>21:30 FR</td>\n",
       "      <td>15°54.10'S</td>\n",
       "      <td>30°42.82'W</td>\n",
       "      <td>177°</td>\n",
       "      <td>20.2 kts</td>\n",
       "      <td>19.7 kts</td>\n",
       "      <td>486.0 nm</td>\n",
       "      <td>20465.6 nm</td>\n",
       "      <td>57.6 nm</td>\n",
       "      <td>1</td>\n",
       "    </tr>\n",
       "    <tr>\n",
       "      <th>Jean Le Cam Yes we Cam !</th>\n",
       "      <td>4</td>\n",
       "      <td>FRA 01</td>\n",
       "      <td>21:30 FR</td>\n",
       "      <td>12°20.33'S</td>\n",
       "      <td>29°59.00'W</td>\n",
       "      <td>176°</td>\n",
       "      <td>16.3 kts</td>\n",
       "      <td>16.0 kts</td>\n",
       "      <td>390.4 nm</td>\n",
       "      <td>20650.7 nm</td>\n",
       "      <td>242.7 nm</td>\n",
       "      <td>0</td>\n",
       "    </tr>\n",
       "    <tr>\n",
       "      <th>Louis Burton Bureau Vallée 2</th>\n",
       "      <td>5</td>\n",
       "      <td>FRA 18</td>\n",
       "      <td>21:30 FR</td>\n",
       "      <td>12°33.15'S</td>\n",
       "      <td>31°20.78'W</td>\n",
       "      <td>180°</td>\n",
       "      <td>18.7 kts</td>\n",
       "      <td>18.0 kts</td>\n",
       "      <td>449.7 nm</td>\n",
       "      <td>20665.5 nm</td>\n",
       "      <td>257.6 nm</td>\n",
       "      <td>1</td>\n",
       "    </tr>\n",
       "  </tbody>\n",
       "</table>\n",
       "</div>"
      ],
      "text/plain": [
       "                             Rank Nat Voile Heure FR Hour FR  \\\n",
       "Alex Thomson HUGO BOSS          1    GBR 99        21:30 FR    \n",
       "Thomas Ruyant LinkedOut         2    FRA 59  21:00 FR -30min   \n",
       "Charlie Dalin APIVIA            3    FRA 79        21:30 FR    \n",
       "Jean Le Cam Yes we Cam !        4    FRA 01        21:30 FR    \n",
       "Louis Burton Bureau Vallée 2    5    FRA 18        21:30 FR    \n",
       "\n",
       "                             Latitude Latitude Longitude Longitude  \\\n",
       "Alex Thomson HUGO BOSS              17°18.82'S          31°27.89'W   \n",
       "Thomas Ruyant LinkedOut             16°25.53'S          29°44.13'W   \n",
       "Charlie Dalin APIVIA                15°54.10'S          30°42.82'W   \n",
       "Jean Le Cam Yes we Cam !            12°20.33'S          29°59.00'W   \n",
       "Louis Burton Bureau Vallée 2        12°33.15'S          31°20.78'W   \n",
       "\n",
       "                             Cap Heading.2 Vitesse Speed.2 VMG VMG.2  \\\n",
       "Alex Thomson HUGO BOSS                170°        20.6 kts  20.1 kts   \n",
       "Thomas Ruyant LinkedOut               169°        20.7 kts  20.5 kts   \n",
       "Charlie Dalin APIVIA                  177°        20.2 kts  19.7 kts   \n",
       "Jean Le Cam Yes we Cam !              176°        16.3 kts  16.0 kts   \n",
       "Louis Burton Bureau Vallée 2          180°        18.7 kts  18.0 kts   \n",
       "\n",
       "                             Distance Distance.2 Distance to Finish  \\\n",
       "Alex Thomson HUGO BOSS                  493.4 nm         20408.0 nm   \n",
       "Thomas Ruyant LinkedOut                 496.0 nm         20414.9 nm   \n",
       "Charlie Dalin APIVIA                    486.0 nm         20465.6 nm   \n",
       "Jean Le Cam Yes we Cam !                390.4 nm         20650.7 nm   \n",
       "Louis Burton Bureau Vallée 2            449.7 nm         20665.5 nm   \n",
       "\n",
       "                             Distance to Leader  Foils  \n",
       "Alex Thomson HUGO BOSS                   0.0 nm      1  \n",
       "Thomas Ruyant LinkedOut                  6.9 nm      1  \n",
       "Charlie Dalin APIVIA                    57.6 nm      1  \n",
       "Jean Le Cam Yes we Cam !               242.7 nm      0  \n",
       "Louis Burton Bureau Vallée 2           257.6 nm      1  "
      ]
     },
     "execution_count": 8,
     "metadata": {},
     "output_type": "execute_result"
    }
   ],
   "source": [
    "# Nettoyage des datasets et jointure avec le fichier contenant les informations sur les foils\n",
    "ranking_dispo = {}\n",
    "ranking = []\n",
    "count = 0\n",
    "foils = pd.read_excel('foils.xlsx', index_col= 0)\n",
    "foils = foils.replace(r'\\n',' ', regex=True)\n",
    "foils.index = foils.index.str.replace(r'\\n',' ', regex=True)\n",
    "for xlsx in liste_xlsx:\n",
    "    ranking_dispo.update({f'ranking_{xlsx[-14:-12]}_{xlsx[-16:-14]}_{xlsx[-11:-9]}h': count})\n",
    "    ranking.append(0)\n",
    "    ranking[count] = pd.read_excel('Rankings/'+xlsx, header = 4,index_col=3)\n",
    "    ranking[count] = ranking[count].replace(r'\\n',' ', regex=True)\n",
    "    ranking[count] = ranking[count].rename(columns={\"Unnamed: 1\": \"Rank\", \"Unnamed: 2\": \"Nat\\nVoile\",\"Unnamed: 19\" : \"Distance to Finish\",\"Unnamed: 20\" : \"Distance to Leader\"})\n",
    "    ranking[count] = ranking[count].drop('Unnamed: 0',axis=1)\n",
    "    ranking[count].index = ranking[count].index.str.replace(r'\\n',' ', regex=True)\n",
    "    ranking[count].index = ranking[count].index.str.replace('Hugo Boss', 'HUGO BOSS', regex=True)\n",
    "    ranking[count].columns = ranking[count].columns.str.replace(r'\\n',' ', regex=True)\n",
    "    ranking[count].drop(['Cap Heading','Vitesse Speed','VMG VMG','Distance Distance','Cap Heading.1','Vitesse Speed.1','VMG VMG.1','Distance Distance.1'], axis=1, inplace=True)\n",
    "    ranking[count] = ranking[count][0:33]\n",
    "    ranking[count] = pd.concat([ranking[count], foils], axis=1)\n",
    "    count = count + 1\n",
    "ranking[14].head()"
   ]
  },
  {
   "cell_type": "code",
   "execution_count": 9,
   "metadata": {
    "scrolled": true
   },
   "outputs": [
    {
     "data": {
      "text/plain": [
       "{'ranking_08_11_21h': 1,\n",
       " 'ranking_09_11_21h': 2,\n",
       " 'ranking_10_11_21h': 3,\n",
       " 'ranking_11_11_21h': 4,\n",
       " 'ranking_12_11_21h': 5,\n",
       " 'ranking_13_11_21h': 6,\n",
       " 'ranking_14_11_21h': 7,\n",
       " 'ranking_15_11_21h': 8,\n",
       " 'ranking_16_11_21h': 9,\n",
       " 'ranking_17_11_21h': 10,\n",
       " 'ranking_18_11_21h': 11,\n",
       " 'ranking_19_11_21h': 12,\n",
       " 'ranking_20_11_21h': 14,\n",
       " 'ranking_21_11_21h': 15,\n",
       " 'ranking_22_11_21h': 16,\n",
       " 'ranking_23_11_21h': 17,\n",
       " 'ranking_24_11_21h': 18,\n",
       " 'ranking_25_11_21h': 19,\n",
       " 'ranking_26_11_21h': 20,\n",
       " 'ranking_27_11_21h': 21,\n",
       " 'ranking_28_11_21h': 22}"
      ]
     },
     "execution_count": 9,
     "metadata": {},
     "output_type": "execute_result"
    }
   ],
   "source": [
    "# Permet de voir l'index de la liste de dataframes \"ranking\". \n",
    "# Par exemple ranking[0] correspond au classement du 8/11 à 21h.\n",
    "ranking_dispo"
   ]
  },
  {
   "cell_type": "markdown",
   "metadata": {},
   "source": [
    "Les datasets sont chargés, nous allons donc commencer l'analyse de l'impact des foils sur la vitesse des bateaux.\n",
    "Afin de biaiser au minimum les données, nous allons comparer la moyenne des 5 premiers bateaux du dernier classement contenant ou non un foil. Ceci à pour but d'essayer de minimiser l'impact que pourrait avoir les retardataires sur la moyenne, certains ayant eu une casse et ayant prit pas mal de retard, les conditions météos sont de moins en moins similaire au fur et à mesure que la course s'étale."
   ]
  },
  {
   "cell_type": "code",
   "execution_count": 10,
   "metadata": {
    "scrolled": true
   },
   "outputs": [
    {
     "data": {
      "text/html": [
       "<div>\n",
       "<style scoped>\n",
       "    .dataframe tbody tr th:only-of-type {\n",
       "        vertical-align: middle;\n",
       "    }\n",
       "\n",
       "    .dataframe tbody tr th {\n",
       "        vertical-align: top;\n",
       "    }\n",
       "\n",
       "    .dataframe thead th {\n",
       "        text-align: right;\n",
       "    }\n",
       "</style>\n",
       "<table border=\"1\" class=\"dataframe\">\n",
       "  <thead>\n",
       "    <tr style=\"text-align: right;\">\n",
       "      <th></th>\n",
       "      <th>Speed without Foils</th>\n",
       "      <th>Speed with Foils</th>\n",
       "    </tr>\n",
       "  </thead>\n",
       "  <tbody>\n",
       "    <tr>\n",
       "      <th>1</th>\n",
       "      <td>5.88</td>\n",
       "      <td>5.66</td>\n",
       "    </tr>\n",
       "    <tr>\n",
       "      <th>2</th>\n",
       "      <td>5.88</td>\n",
       "      <td>5.66</td>\n",
       "    </tr>\n",
       "    <tr>\n",
       "      <th>3</th>\n",
       "      <td>8.82</td>\n",
       "      <td>9.24</td>\n",
       "    </tr>\n",
       "    <tr>\n",
       "      <th>4</th>\n",
       "      <td>8.62</td>\n",
       "      <td>8.62</td>\n",
       "    </tr>\n",
       "    <tr>\n",
       "      <th>5</th>\n",
       "      <td>11.30</td>\n",
       "      <td>11.32</td>\n",
       "    </tr>\n",
       "    <tr>\n",
       "      <th>6</th>\n",
       "      <td>12.88</td>\n",
       "      <td>13.00</td>\n",
       "    </tr>\n",
       "    <tr>\n",
       "      <th>7</th>\n",
       "      <td>14.00</td>\n",
       "      <td>15.04</td>\n",
       "    </tr>\n",
       "    <tr>\n",
       "      <th>8</th>\n",
       "      <td>13.08</td>\n",
       "      <td>13.50</td>\n",
       "    </tr>\n",
       "    <tr>\n",
       "      <th>9</th>\n",
       "      <td>11.30</td>\n",
       "      <td>15.32</td>\n",
       "    </tr>\n",
       "    <tr>\n",
       "      <th>10</th>\n",
       "      <td>16.72</td>\n",
       "      <td>19.60</td>\n",
       "    </tr>\n",
       "    <tr>\n",
       "      <th>11</th>\n",
       "      <td>15.62</td>\n",
       "      <td>17.66</td>\n",
       "    </tr>\n",
       "    <tr>\n",
       "      <th>12</th>\n",
       "      <td>14.56</td>\n",
       "      <td>15.12</td>\n",
       "    </tr>\n",
       "    <tr>\n",
       "      <th>13</th>\n",
       "      <td>13.96</td>\n",
       "      <td>19.28</td>\n",
       "    </tr>\n",
       "    <tr>\n",
       "      <th>14</th>\n",
       "      <td>14.00</td>\n",
       "      <td>19.86</td>\n",
       "    </tr>\n",
       "    <tr>\n",
       "      <th>15</th>\n",
       "      <td>14.00</td>\n",
       "      <td>19.86</td>\n",
       "    </tr>\n",
       "    <tr>\n",
       "      <th>16</th>\n",
       "      <td>14.48</td>\n",
       "      <td>19.04</td>\n",
       "    </tr>\n",
       "    <tr>\n",
       "      <th>17</th>\n",
       "      <td>13.06</td>\n",
       "      <td>11.04</td>\n",
       "    </tr>\n",
       "    <tr>\n",
       "      <th>18</th>\n",
       "      <td>11.34</td>\n",
       "      <td>9.42</td>\n",
       "    </tr>\n",
       "    <tr>\n",
       "      <th>19</th>\n",
       "      <td>9.14</td>\n",
       "      <td>9.00</td>\n",
       "    </tr>\n",
       "    <tr>\n",
       "      <th>20</th>\n",
       "      <td>9.28</td>\n",
       "      <td>7.18</td>\n",
       "    </tr>\n",
       "    <tr>\n",
       "      <th>21</th>\n",
       "      <td>11.08</td>\n",
       "      <td>7.90</td>\n",
       "    </tr>\n",
       "    <tr>\n",
       "      <th>22</th>\n",
       "      <td>14.76</td>\n",
       "      <td>13.30</td>\n",
       "    </tr>\n",
       "    <tr>\n",
       "      <th>23</th>\n",
       "      <td>17.00</td>\n",
       "      <td>19.24</td>\n",
       "    </tr>\n",
       "  </tbody>\n",
       "</table>\n",
       "</div>"
      ],
      "text/plain": [
       "    Speed without Foils  Speed with Foils\n",
       "1                  5.88              5.66\n",
       "2                  5.88              5.66\n",
       "3                  8.82              9.24\n",
       "4                  8.62              8.62\n",
       "5                 11.30             11.32\n",
       "6                 12.88             13.00\n",
       "7                 14.00             15.04\n",
       "8                 13.08             13.50\n",
       "9                 11.30             15.32\n",
       "10                16.72             19.60\n",
       "11                15.62             17.66\n",
       "12                14.56             15.12\n",
       "13                13.96             19.28\n",
       "14                14.00             19.86\n",
       "15                14.00             19.86\n",
       "16                14.48             19.04\n",
       "17                13.06             11.04\n",
       "18                11.34              9.42\n",
       "19                 9.14              9.00\n",
       "20                 9.28              7.18\n",
       "21                11.08              7.90\n",
       "22                14.76             13.30\n",
       "23                17.00             19.24"
      ]
     },
     "execution_count": 10,
     "metadata": {},
     "output_type": "execute_result"
    }
   ],
   "source": [
    "# Permet de récupérer la moyenne des vitesses des 5 premiers du classement  avec foils et des 5 premiers\n",
    "df_speed = pd.DataFrame(columns=('Speed without Foils','Speed with Foils'))\n",
    "count_day = 1\n",
    "for ranks in ranking:\n",
    "    df1 = ranks.rename(columns={\"Vitesse Speed.2\": f\"{count_day}\"})[['Rank','Foils',f\"{count_day}\"]]\n",
    "    speed_with_foil = df1.loc[df1['Foils']==1].head(5)\n",
    "    speed_with_foil = speed_with_foil[f\"{count_day}\"].replace(r' kts','', regex=True).values\n",
    "    speed_with_foil = mean(list(map(float, speed_with_foil)))\n",
    "    speed_without_foil = df1.loc[df1['Foils']==0].head(5)\n",
    "    speed_without_foil = speed_without_foil[f\"{count_day}\"].replace(r' kts','', regex=True).values\n",
    "    speed_without_foil = mean(list(map(float, speed_without_foil)))\n",
    "    df_speed.loc[count_day] = [speed_without_foil,speed_with_foil]\n",
    "    count_day = count_day + 1\n",
    "    \n",
    "df_speed"
   ]
  },
  {
   "cell_type": "code",
   "execution_count": 15,
   "metadata": {},
   "outputs": [
    {
     "data": {
      "text/plain": [
       "Text(40, -50, 'V = ~12-13kts')"
      ]
     },
     "execution_count": 15,
     "metadata": {},
     "output_type": "execute_result"
    },
    {
     "data": {
      "image/png": "[encoded data removed]",
      "text/plain": [
       "<Figure size 432x288 with 1 Axes>"
      ]
     },
     "metadata": {
      "needs_background": "light"
     },
     "output_type": "display_data"
    }
   ],
   "source": [
    "# Nous prenons ici les 15 premiers jours\n",
    "plt = df_speed.loc[1:10].plot(title='Vitesse moyenne des 5 premiers du classement en fonction des jours avec ou sans foils')\n",
    "plt.set_xlabel(\"Jours depuis le début de la course\")\n",
    "plt.set_ylabel(\"Vitesse en Noeuds\")\n",
    "plt.annotate('V = ~12-13kts', xy=(6,12.5), xycoords='data',\n",
    "            xytext=(40,-50), textcoords='offset points',\n",
    "            arrowprops=dict(arrowstyle='fancy',fc='0.6',\n",
    "                            connectionstyle=\"angle3,angleA=0,angleB=-90\"))"
   ]
  },
  {
   "cell_type": "markdown",
   "metadata": {},
   "source": [
    "Nous voyons ici qu'un bateau posséndant un foil va gagner en vitesse par rapport à un bateau sans foil, à partir de 12-13 noeuds marins. C'est en effet à cette vitesse que le bateau \"décolle\" et permet de réduire les frottements, gagnant ainsi de la vitesse relativement aux bateaux ne possédant pas de foil. La courbe est à conditions similaires jusqu'au 7-8eme jour. Après cela, les bateaux avec foil, allant plus vite, prennent de l'avance et n'ont plus les mêmes conditions météos que les bateaux sans foil, ce qui biaise la courbe. Nous arrêtons donc la courbe au 10ème jour, car plus le temps avance moins elle est fiable.\n",
    "\n",
    "Le foil est donc un net avantage sur le point de vue théorique, mais en pratique c'est aussi une prise de risque, car tout le poids du bateau est concentré sur le foil et sur la dérive. Comme nous avons pu le voir avec Alex Thomson, son bateau Hugo Boss présente des fissures dans la structure de la coque, probablement liées aux contraintes extrèmes imposées par le foil. Ce dernier a du naviguer à vitesse réduite perdant ainsi la tête de la course dans la nuit du vendredi au samedi 21/11.\n",
    "\n",
    "La course n'est donc pas encore jouée !\n"
   ]
  },
  {
   "cell_type": "markdown",
   "metadata": {},
   "source": [
    "Nous allons maintenant suivre les positions de deux skipers sur une carte. Nous allons prendre le premier skipper du classement possédant un foil, et le premier skipper du classement n'en possédant pas. Le Dimanche 22 novembre, lorsque j'ai fait ces recherches le 1er skipper possédant un foil était Thomas RUYANT, et celui n'en possédant pas était Jean LE CAM. Ces donc ces deux skippers que nous suivront au fur et à mesure des jours depuis le départ jusqu'au rendu du projet."
   ]
  },
  {
   "cell_type": "code",
   "execution_count": 16,
   "metadata": {},
   "outputs": [
    {
     "data": {
      "text/plain": [
       "-31.474722222222223"
      ]
     },
     "execution_count": 16,
     "metadata": {},
     "output_type": "execute_result"
    }
   ],
   "source": [
    "# La fonction réalisé lors du premier devoir maison ne couvrant pas les cas où les coordonées possèdent des points\n",
    "# cardinaux, j'ai extrait un code de la page suivant :\n",
    "# https://stackoverflow.com/questions/33997361/how-to-convert-degree-minute-second-to-degree-decimal\n",
    "\n",
    "import re\n",
    "def dms2dd(degrees, minutes, seconds, direction):\n",
    "    dd = float(degrees) + float(minutes)/60 + float(seconds)/(60*60);\n",
    "    if direction == 'W' or direction == 'S':\n",
    "        dd *= -1\n",
    "    return dd;\n",
    "def parse_dms(dms):\n",
    "    parts = re.split('[^\\d\\w]+', dms)\n",
    "    res = dms2dd(parts[0], parts[1], parts[2], parts[3])\n",
    "\n",
    "    return (res)\n",
    "\n",
    "dd = parse_dms(\"31°27.89'S\")\n",
    "dd"
   ]
  },
  {
   "cell_type": "code",
   "execution_count": 17,
   "metadata": {},
   "outputs": [],
   "source": [
    "# Récupération des coordonées GPS de Thomas Ruyant et Jean Le Cam\n",
    "df_coords_tr = pd.DataFrame(columns=('Latitude','Longitude'))\n",
    "df_coords_jlc = pd.DataFrame(columns=('Latitude','Longitude'))\n",
    "count_day = 1\n",
    "for ranks in ranking:\n",
    "    lat_tr = parse_dms(ranks.loc['Thomas Ruyant LinkedOut']['Latitude Latitude'])\n",
    "    long_tr = parse_dms(ranks.loc['Thomas Ruyant LinkedOut']['Longitude Longitude'])\n",
    "    lat_jlc = parse_dms(ranks.loc['Jean Le Cam Yes we Cam !']['Latitude Latitude'])\n",
    "    long_jlc = parse_dms(ranks.loc['Jean Le Cam Yes we Cam !']['Longitude Longitude'])\n",
    "    df_coords_tr.loc[count_day] = [lat_tr,long_tr]\n",
    "    df_coords_jlc.loc[count_day] = [lat_jlc,long_jlc]\n",
    "    count_day = count_day + 1"
   ]
  },
  {
   "cell_type": "code",
   "execution_count": 24,
   "metadata": {
    "scrolled": false
   },
   "outputs": [
    {
     "data": {
      "text/html": [
       "<div style=\"width:100%;\"><div style=\"position:relative;width:100%;height:0;padding-bottom:60%;\"><span style=\"color:#565656\">Make this Notebook Trusted to load map: File -> Trust Notebook</span><iframe src=\"about:blank\" style=\"position:absolute;width:100%;height:100%;left:0;top:0;border:none !important;\" data-html=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 onload=\"this.contentDocument.open();this.contentDocument.write(atob(this.getAttribute('data-html')));this.contentDocument.close();\" allowfullscreen webkitallowfullscreen mozallowfullscreen></iframe></div></div>"
      ],
      "text/plain": [
       "<folium.folium.Map at 0x7f809f4769a0>"
      ]
     },
     "execution_count": 24,
     "metadata": {},
     "output_type": "execute_result"
    }
   ],
   "source": [
    "# Création de la carte et importation des points GPS des 2 skippers\n",
    "import folium\n",
    "m = folium.Map(location=[10, 0],\n",
    "                   zoom_start=3,\n",
    "                   tiles='Stamen Terrain')\n",
    "\n",
    "\n",
    "group0 = folium.FeatureGroup(name='<span style=\\\\\"color: red;\\\\\">Red Ships Thomas Ruyant</span>')\n",
    "group1 = folium.FeatureGroup(name='<span style=\\\\\"color: blue;\\\\\">Blue Ships Jean Le Cam</span>')\n",
    "for i in range(1,len(df_coords_tr)):\n",
    "    lat_tr = df_coords_tr.loc[i]['Latitude']\n",
    "    long_tr = df_coords_tr.loc[i]['Longitude']\n",
    "    lat_jlc = df_coords_jlc.loc[i]['Latitude']\n",
    "    long_jlc = df_coords_jlc.loc[i]['Longitude']\n",
    "    folium.Marker(location=[lat_tr, long_tr], popup=f'<i>Thomas Ruyant Jour {i}</i>',\n",
    "                  icon=folium.Icon(color='red',icon=\"ship\", prefix='fa')).add_to(group0)\n",
    "    folium.Marker(location=[lat_jlc, long_jlc], popup=f'<i>Jean Le Cam Jour {i}</i>',\n",
    "                  icon=folium.Icon(color='blue',icon=\"ship\", prefix='fa')).add_to(group1)\n",
    "group0.add_to(m)\n",
    "group1.add_to(m)\n",
    "folium.map.LayerControl('topright', collapsed=False).add_to(m)\n",
    "\n",
    "m"
   ]
  },
  {
   "cell_type": "markdown",
   "metadata": {},
   "source": [
    "La carte permet de suivre la position des 2 skippers, Jean le Cam en Bleu et Thomas Ruyant en Rouge.\n",
    "Nous voyons que Thomas Ruyant à dépassé Jean Le Cam environ au jour 10, après le passage des vents calmes équatoriaux lorsque les bateaux sont rentrés dans les vents forts de l'anticyclone de Saint Hélène, présent dans la partie hémisphère sud de l'océan Atlantique. Nous voyons que l'écart se creuse car la vitesse des vents est plus élevée dans cette zone, maximisant l'avantage du foil. Sur les derniers jours avant le rendu du projet, nous voyons que Thomas Ruyant a pris plus d'un jour d'avance (quasiment 2) sur Jean Le Cam."
   ]
  }
 ],
 "metadata": {
  "kernelspec": {
   "display_name": "Python 3",
   "language": "python",
   "name": "python3"
  },
  "language_info": {
   "codemirror_mode": {
    "name": "ipython",
    "version": 3
   },
   "file_extension": ".py",
   "mimetype": "text/x-python",
   "name": "python",
   "nbconvert_exporter": "python",
   "pygments_lexer": "ipython3",
   "version": "3.8.3"
  }
 },
 "nbformat": 4,
 "nbformat_minor": 4
}
